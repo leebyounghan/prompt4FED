{
 "cells": [
  {
   "cell_type": "markdown",
   "metadata": {},
   "source": [
    "# Data load test code"
   ]
  },
  {
   "cell_type": "markdown",
   "metadata": {},
   "source": [
    "## 기본 라이브러리 "
   ]
  },
  {
   "cell_type": "code",
   "execution_count": 303,
   "metadata": {},
   "outputs": [],
   "source": [
    "import h5py\n",
    "import argparse\n",
    "import os\n",
    "import pickle\n",
    "import json\n",
    "import pandas as pd\n",
    "import numpy as np\n",
    "from sentence_transformers import SentenceTransformer\n",
    "from sklearn.cluster import KMeans\n",
    "from sklearn.model_selection import train_test_split"
   ]
  },
  {
   "cell_type": "markdown",
   "metadata": {},
   "source": [
    "## Custom module"
   ]
  },
  {
   "cell_type": "code",
   "execution_count": 310,
   "metadata": {},
   "outputs": [
    {
     "ename": "ImportError",
     "evalue": "cannot import name 'bert_clustering' from 'dataloader' (/home/ckjwh/ckj/FedML/prompt4FED/dataloader.py)",
     "output_type": "error",
     "traceback": [
      "\u001b[0;31m---------------------------------------------------------------------------\u001b[0m",
      "\u001b[0;31mImportError\u001b[0m                               Traceback (most recent call last)",
      "Cell \u001b[0;32mIn[310], line 1\u001b[0m\n\u001b[0;32m----> 1\u001b[0m \u001b[39mfrom\u001b[39;00m \u001b[39mdataloader\u001b[39;00m \u001b[39mimport\u001b[39;00m bert_clustering, data_partition, load_datasets\n",
      "\u001b[0;31mImportError\u001b[0m: cannot import name 'bert_clustering' from 'dataloader' (/home/ckjwh/ckj/FedML/prompt4FED/dataloader.py)"
     ]
    }
   ],
   "source": [
    "from dataloader import bert_clustering, data_partition, load_datasets"
   ]
  },
  {
   "cell_type": "code",
   "execution_count": 3,
   "metadata": {},
   "outputs": [],
   "source": [
    "# Setting\n",
    "data_file = \"/home/ckjwh/ckj/FedML/python/app/fednlp/fednlp_data/data_files/cornell_movie_dialogue_data.h5\"\n",
    "N_Clients = 5\n",
    "batch = 32\n",
    "embedding_file = \"/home/ckjwh/ckj/FedML/python/app/fednlp/fednlp_data/embedding_files/cornell_movie_dialogue_embedding.pkl\"\n",
    "task_type = \"seq2seq\"\n",
    "overwrite = False\n",
    "\n",
    "data_dir = '/home/ckjwh/ckj/FedML/python/app/fednlp/data/advanced_partition/Clients'"
   ]
  },
  {
   "cell_type": "code",
   "execution_count": 44,
   "metadata": {},
   "outputs": [
    {
     "name": "stdout",
     "output_type": "stream",
     "text": [
      "start reading data\n",
      "start process embedding data and kmeans partition\n"
     ]
    },
    {
     "name": "stderr",
     "output_type": "stream",
     "text": [
      "Batches: 100%|██████████| 3463/3463 [01:32<00:00, 37.51it/s]\n"
     ]
    },
    {
     "name": "stdout",
     "output_type": "stream",
     "text": [
      "start Kmeans\n"
     ]
    },
    {
     "name": "stderr",
     "output_type": "stream",
     "text": [
      "/home/ckjwh/anaconda3/envs/FedML/lib/python3.9/site-packages/sklearn/cluster/_kmeans.py:1412: FutureWarning: The default value of `n_init` will change from 10 to 'auto' in 1.4. Set the value of `n_init` explicitly to suppress the warning\n",
      "  super()._check_params_vs_input(X, default_n_init=10)\n"
     ]
    },
    {
     "name": "stdout",
     "output_type": "stream",
     "text": [
      "end Kmeans\n"
     ]
    }
   ],
   "source": [
    "df = load_datasets(N_Clients, data_file, task_type, embedding_file, overwrite, batch)"
   ]
  },
  {
   "cell_type": "code",
   "execution_count": 46,
   "metadata": {},
   "outputs": [
    {
     "data": {
      "text/html": [
       "<div>\n",
       "<style scoped>\n",
       "    .dataframe tbody tr th:only-of-type {\n",
       "        vertical-align: middle;\n",
       "    }\n",
       "\n",
       "    .dataframe tbody tr th {\n",
       "        vertical-align: top;\n",
       "    }\n",
       "\n",
       "    .dataframe thead th {\n",
       "        text-align: right;\n",
       "    }\n",
       "</style>\n",
       "<table border=\"1\" class=\"dataframe\">\n",
       "  <thead>\n",
       "    <tr style=\"text-align: right;\">\n",
       "      <th></th>\n",
       "      <th>input</th>\n",
       "      <th>label</th>\n",
       "      <th>assigned</th>\n",
       "    </tr>\n",
       "  </thead>\n",
       "  <tbody>\n",
       "    <tr>\n",
       "      <th>0</th>\n",
       "      <td>Well, I thought we'd start with pronunciation,...</td>\n",
       "      <td>Not the hacking and gagging and spitting part....</td>\n",
       "      <td>1</td>\n",
       "    </tr>\n",
       "    <tr>\n",
       "      <th>1</th>\n",
       "      <td>Right.  See?  You're ready for the quiz.</td>\n",
       "      <td>I just wanted --</td>\n",
       "      <td>3</td>\n",
       "    </tr>\n",
       "    <tr>\n",
       "      <th>2</th>\n",
       "      <td>Why should I carry your bag?  I am not a dog.</td>\n",
       "      <td>Wording and your friendship with the Colonel a...</td>\n",
       "      <td>0</td>\n",
       "    </tr>\n",
       "    <tr>\n",
       "      <th>3</th>\n",
       "      <td>Let me try.</td>\n",
       "      <td>You? Why I'm sure it would pale in comparison ...</td>\n",
       "      <td>0</td>\n",
       "    </tr>\n",
       "    <tr>\n",
       "      <th>4</th>\n",
       "      <td>Let me try!</td>\n",
       "      <td>That... was... no... simulation.</td>\n",
       "      <td>4</td>\n",
       "    </tr>\n",
       "    <tr>\n",
       "      <th>...</th>\n",
       "      <td>...</td>\n",
       "      <td>...</td>\n",
       "      <td>...</td>\n",
       "    </tr>\n",
       "    <tr>\n",
       "      <th>110803</th>\n",
       "      <td>I'm through with puppets, Lotte. I just want y...</td>\n",
       "      <td>I know.</td>\n",
       "      <td>1</td>\n",
       "    </tr>\n",
       "    <tr>\n",
       "      <th>110804</th>\n",
       "      <td>I'd like to be a farmer. I want to help things...</td>\n",
       "      <td>Sure. We could really use a farmer. We'd be gr...</td>\n",
       "      <td>0</td>\n",
       "    </tr>\n",
       "    <tr>\n",
       "      <th>110805</th>\n",
       "      <td>I can't believe it. This is too good to be true.</td>\n",
       "      <td>Holy shit, yes!</td>\n",
       "      <td>2</td>\n",
       "    </tr>\n",
       "    <tr>\n",
       "      <th>110806</th>\n",
       "      <td>Holy shit! He said what I said!</td>\n",
       "      <td>Holy shit! He said what I said!</td>\n",
       "      <td>2</td>\n",
       "    </tr>\n",
       "    <tr>\n",
       "      <th>110807</th>\n",
       "      <td>Simulates?</td>\n",
       "      <td>Sure, after a fashion.</td>\n",
       "      <td>3</td>\n",
       "    </tr>\n",
       "  </tbody>\n",
       "</table>\n",
       "<p>110808 rows × 3 columns</p>\n",
       "</div>"
      ],
      "text/plain": [
       "                                                    input  \\\n",
       "0       Well, I thought we'd start with pronunciation,...   \n",
       "1                Right.  See?  You're ready for the quiz.   \n",
       "2           Why should I carry your bag?  I am not a dog.   \n",
       "3                                             Let me try.   \n",
       "4                                             Let me try!   \n",
       "...                                                   ...   \n",
       "110803  I'm through with puppets, Lotte. I just want y...   \n",
       "110804  I'd like to be a farmer. I want to help things...   \n",
       "110805   I can't believe it. This is too good to be true.   \n",
       "110806                    Holy shit! He said what I said!   \n",
       "110807                                         Simulates?   \n",
       "\n",
       "                                                    label  assigned  \n",
       "0       Not the hacking and gagging and spitting part....         1  \n",
       "1                                        I just wanted --         3  \n",
       "2       Wording and your friendship with the Colonel a...         0  \n",
       "3       You? Why I'm sure it would pale in comparison ...         0  \n",
       "4                        That... was... no... simulation.         4  \n",
       "...                                                   ...       ...  \n",
       "110803                                            I know.         1  \n",
       "110804  Sure. We could really use a farmer. We'd be gr...         0  \n",
       "110805                                    Holy shit, yes!         2  \n",
       "110806                    Holy shit! He said what I said!         2  \n",
       "110807                             Sure, after a fashion.         3  \n",
       "\n",
       "[110808 rows x 3 columns]"
      ]
     },
     "execution_count": 46,
     "metadata": {},
     "output_type": "execute_result"
    }
   ],
   "source": [
    "df"
   ]
  },
  {
   "cell_type": "code",
   "execution_count": 298,
   "metadata": {},
   "outputs": [
    {
     "name": "stdout",
     "output_type": "stream",
     "text": [
      "Data splitting and saving complete.\n"
     ]
    }
   ],
   "source": [
    "# 클라이언트 수 설정\n",
    "num_clients = 5\n",
    "\n",
    "# alpha 값 설정 (0부터 1 사이)\n",
    "alpha = 1\n",
    "\n",
    "# 데이터 디렉토리 설정\n",
    "data_dir = \"data_dir\"\n",
    "\n",
    "# 함수 호출\n",
    "make_dir(num_clients, data_dir, df, alpha)"
   ]
  },
  {
   "cell_type": "code",
   "execution_count": 301,
   "metadata": {},
   "outputs": [
    {
     "data": {
      "image/png": "[encoded data removed]",
      "text/plain": [
       "<Figure size 1200x600 with 5 Axes>"
      ]
     },
     "metadata": {},
     "output_type": "display_data"
    }
   ],
   "source": [
    "visualize_distribution(data_dir)"
   ]
  }
 ],
 "metadata": {
  "kernelspec": {
   "display_name": "FedML",
   "language": "python",
   "name": "python3"
  },
  "language_info": {
   "codemirror_mode": {
    "name": "ipython",
    "version": 3
   },
   "file_extension": ".py",
   "mimetype": "text/x-python",
   "name": "python",
   "nbconvert_exporter": "python",
   "pygments_lexer": "ipython3",
   "version": "3.9.0"
  },
  "orig_nbformat": 4
 },
 "nbformat": 4,
 "nbformat_minor": 2
}
