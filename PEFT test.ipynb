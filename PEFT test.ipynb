{
 "cells": [
  {
   "cell_type": "code",
   "execution_count": 1,
   "id": "ae09bec7",
   "metadata": {},
   "outputs": [],
   "source": [
    "import torch"
   ]
  },
  {
   "cell_type": "code",
   "execution_count": 2,
   "id": "fbbcc45e",
   "metadata": {},
   "outputs": [],
   "source": [
    "from transformers import AutoModelForSeq2SeqLM\n",
    "from src.peft import get_peft_config, get_peft_model, PeftConfig, LoraConfig, PeftModel, TaskType, PrefixTuningConfig\n",
    "import torch\n",
    "from datasets import load_dataset\n",
    "import os\n",
    "from transformers import AutoTokenizer \n",
    "\n",
    "device = \"cuda\"\n",
    "model_name_or_path = \"google/Flan-t5-small\"\n",
    "tokenizer_name_or_path = \"google/Flan-t5-small\"\n",
    "peft_config = PrefixTuningConfig(task_type=TaskType.SEQ_2_SEQ_LM, num_virtual_tokens=30)\n",
    "\n",
    "max_length = 64\n",
    "lr = 3e-2\n",
    "num_epochs = 50\n",
    "batch_size = 8"
   ]
  },
  {
   "cell_type": "code",
   "execution_count": 3,
   "id": "a3f6564a",
   "metadata": {},
   "outputs": [
    {
     "name": "stdout",
     "output_type": "stream",
     "text": [
      "trainable params: 245,760 || all params: 77,206,912 || trainable%: 0.3183134691360276\n"
     ]
    }
   ],
   "source": [
    "model = AutoModelForSeq2SeqLM.from_pretrained(model_name_or_path)\n",
    "model = get_peft_model(model, peft_config)\n",
    "model.print_trainable_parameters()"
   ]
  },
  {
   "cell_type": "code",
   "execution_count": 4,
   "id": "20752734",
   "metadata": {},
   "outputs": [],
   "source": [
    "params= model.get_prompt_parameters()\n",
    "model.set_prompt_parameters(params)"
   ]
  },
  {
   "cell_type": "code",
   "execution_count": 6,
   "id": "52cd9f37",
   "metadata": {},
   "outputs": [
    {
     "data": {
      "text/plain": [
       "[array([[-0.65822005,  0.20770355,  0.56533   , ...,  0.5136912 ,\n",
       "         -0.121434  ,  0.778885  ],\n",
       "        [-0.51079017,  0.7893557 ,  2.5220456 , ..., -0.43179503,\n",
       "         -0.54647195, -0.891026  ],\n",
       "        [ 0.40456805,  1.9952291 , -1.8960481 , ...,  0.40709218,\n",
       "          0.34981233, -0.3867474 ],\n",
       "        ...,\n",
       "        [ 1.1941421 , -1.4727012 , -0.46392825, ..., -0.79542845,\n",
       "          0.5023689 , -0.04022333],\n",
       "        [-1.1983653 , -1.3535659 ,  0.44790074, ..., -0.27667516,\n",
       "          0.7347815 ,  1.7409161 ],\n",
       "        [-0.8581632 , -1.6346154 , -0.9415212 , ...,  1.000665  ,\n",
       "          0.20813204,  0.8796789 ]], dtype=float32)]"
      ]
     },
     "execution_count": 6,
     "metadata": {},
     "output_type": "execute_result"
    }
   ],
   "source": [
    "params"
   ]
  }
 ],
 "metadata": {
  "kernelspec": {
   "display_name": "FL",
   "language": "python",
   "name": "fl"
  },
  "language_info": {
   "codemirror_mode": {
    "name": "ipython",
    "version": 3
   },
   "file_extension": ".py",
   "mimetype": "text/x-python",
   "name": "python",
   "nbconvert_exporter": "python",
   "pygments_lexer": "ipython3",
   "version": "3.8.0"
  }
 },
 "nbformat": 4,
 "nbformat_minor": 5
}
